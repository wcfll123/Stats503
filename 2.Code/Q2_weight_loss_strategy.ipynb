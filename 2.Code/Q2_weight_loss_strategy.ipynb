{
 "cells": [
  {
   "cell_type": "markdown",
   "id": "aa0c84d7-e67f-4627-a542-3f0af96cdc40",
   "metadata": {
    "tags": []
   },
   "source": [
    "# 503 Project Q2"
   ]
  },
  {
   "cell_type": "markdown",
   "id": "cadd1f5e-3b9e-4508-9820-9620367e679c",
   "metadata": {
    "jp-MarkdownHeadingCollapsed": true,
    "tags": []
   },
   "source": [
    "## Prelude：data cleaning"
   ]
  },
  {
   "cell_type": "code",
   "execution_count": 1,
   "id": "c95f8001-4c6b-4d87-a49a-503e8cf14521",
   "metadata": {},
   "outputs": [],
   "source": [
    "# 0.import packages\n",
    "\n",
    "import numpy as np\n",
    "import pandas as pd\n",
    "import matplotlib.pyplot as plt\n",
    "import seaborn as sns\n",
    "import math\n",
    "from sklearn.pipeline import Pipeline\n",
    "from sklearn.preprocessing import PolynomialFeatures, SplineTransformer, StandardScaler\n",
    "from sklearn.linear_model import LinearRegression, Lasso, LassoCV, RidgeCV\n",
    "from pygam import LinearGAM, s, f, l\n",
    "from sklearn.model_selection import cross_val_score\n",
    "from sklearn.model_selection import KFold\n",
    "from sklearn.neighbors import KNeighborsRegressor\n",
    "import sklearn.metrics\n",
    "from sklearn import tree\n",
    "from PIL import Image\n",
    "from sklearn import preprocessing\n",
    "from sklearn.preprocessing import OneHotEncoder\n",
    "from sklearn.model_selection import train_test_split\n",
    "import statsmodels.api as sm\n",
    "from sklearn.metrics import mean_squared_error,r2_score, matthews_corrcoef\n",
    "from sklearn.ensemble import RandomForestRegressor, HistGradientBoostingRegressor, GradientBoostingRegressor"
   ]
  },
  {
   "cell_type": "code",
   "execution_count": 2,
   "id": "1d0f64b6-d821-433a-93b2-da995a71890e",
   "metadata": {
    "tags": []
   },
   "outputs": [],
   "source": [
    "# 1.Load data\n",
    "\n",
    "weight = pd.read_csv('503_2024_spring/P_WHQ.csv')\n",
    "demo = pd.read_csv('503_2024_spring/P_DEMO.csv')\n",
    "sleep = pd.read_csv('503_2024_spring/P_SLQ.csv')\n",
    "diet = pd.read_csv('503_2024_spring/P_DBQ.csv')\n",
    "activity = pd.read_csv('503_2024_spring/P_PAQ.csv')\n",
    "smoke = pd.read_csv('503_2024_spring/P_SMQ.csv')\n",
    "alcohol = pd.read_csv('503_2024_spring/P_ALQ.csv')\n"
   ]
  },
  {
   "cell_type": "code",
   "execution_count": 3,
   "id": "69100593-1439-4c7b-9639-0e2e3898897a",
   "metadata": {
    "tags": []
   },
   "outputs": [],
   "source": [
    "# 2.filter variables  \n",
    "# df_all\n",
    "\n",
    "#(1) weight\n",
    "weight_var_index = [0,2,5,7,] + [i for i in np.arange(8,22)]+[23,25,26,27]\n",
    "df_all = weight.iloc[:,weight_var_index]\n",
    "#(2) demographic : 4 variables\n",
    "demo_subset = demo.loc[:,['SEQN','RIAGENDR','RIDAGEYR','DMDMARTZ','DMDEDUC2']]\n",
    "df_all = pd.merge(df_all, demo_subset, how = 'inner', on = 'SEQN')\n",
    "#(3) sleep : 3 variables\n",
    "sleep_subset = sleep.loc[:,['SEQN','SLD012','SLD013','SLQ120']]\n",
    "df_all = pd.merge(df_all, sleep_subset, how = 'inner', on = 'SEQN')\n",
    "#(4) diet : 2 variables\n",
    "diet_subset = diet.loc[:,['SEQN','DBD905','DBD910']]\n",
    "df_all = pd.merge(df_all, diet_subset, how = 'inner', on = 'SEQN')\n",
    "#(5) activity\n",
    "# PAQ650 is like vigorous activity, and PAQ665 is like moderate\n",
    "activity_subset = activity.loc[:,['SEQN',\n",
    "                              'PAQ635','PAQ640',\n",
    "                              'PAQ650','PAQ655',\n",
    "                              'PAQ665','PAQ670','PAD680']]\n",
    "df_all = pd.merge(df_all, activity_subset, how = 'inner', on = 'SEQN')\n",
    "#(6) smoke : 4 variables\n",
    "# Note: this dataset is really special! If 'SMQ020' is no, \n",
    "# all following will be missing\n",
    "# 'SMD641' is not good\n",
    "smoke_subset = smoke.loc[:,['SEQN','SMQ020','SMQ040',\n",
    "                            'SMD650']]        \n",
    "\n",
    "df_all = pd.merge(df_all, smoke_subset, how = 'inner', on = 'SEQN')  \n",
    "#(7) alcohol\n",
    "# 'ALQ280,290' just measures a single day; ALQ142 is like intemperance\n",
    "alcohol_subset = alcohol.loc[:,['SEQN','ALQ111', 'ALQ121','ALQ130','ALQ142',\n",
    "                               'ALQ170']]\n",
    "df_all = pd.merge(df_all, alcohol_subset, how = 'inner', on = 'SEQN')"
   ]
  },
  {
   "cell_type": "code",
   "execution_count": 4,
   "id": "a5bc1fdd-3436-4bf2-8f39-54ad18ce5a7f",
   "metadata": {
    "tags": []
   },
   "outputs": [],
   "source": [
    "# 3.data processing\n",
    "\n",
    "# self-define function\n",
    "def lw_category(name,num):\n",
    "    df_all[name] = np.where(df_all[name] == num, 1, 0)\n",
    "\n",
    "#(1) weight\n",
    "df_all = df_all[df_all.WHD020 <= 578]\n",
    "df_all = df_all[df_all.WHD050 <= 618]\n",
    "lw_category('WHD080A',10)\n",
    "lw_category('WHD080B',11)\n",
    "lw_category('WHD080C',12)\n",
    "lw_category('WHD080D',13)\n",
    "lw_category('WHD080E',14)\n",
    "lw_category('WHD080F',15)\n",
    "lw_category('WHD080G',16)\n",
    "lw_category('WHD080H',17)\n",
    "lw_category('WHD080I',31)\n",
    "lw_category('WHD080J',32)\n",
    "lw_category('WHD080K',33)\n",
    "lw_category('WHD080M',34)\n",
    "lw_category('WHD080N',30) # special\n",
    "lw_category('WHD080O',41)\n",
    "lw_category('WHD080Q',43)\n",
    "lw_category('WHD080S',45)\n",
    "lw_category('WHD080T',46)\n",
    "lw_category('WHD080U',35)\n",
    "#(2) demographic\n",
    "df_all = df_all[df_all.DMDMARTZ <= 3.0]\n",
    "df_all = df_all[df_all.DMDEDUC2 <= 5.0]\n",
    "df_all['RIAGENDR'] = np.where(df_all['RIAGENDR'] == 2, 1, 0) # femlae:1, male:0\n",
    "df_all['DMDMARTZ'] = np.where(df_all['DMDMARTZ'] == 3.0, 0, # single:0, married:1, divorce:2\n",
    "                              np.where(df_all['DMDMARTZ'] == 1.0, 1, 2))\n",
    "df_all['DMDEDUC2'] = np.where(df_all['DMDEDUC2'] == 3, 1,\n",
    "                              np.where(df_all['DMDEDUC2'] == 4, 2,\n",
    "                              np.where(df_all['DMDEDUC2'] == 5, 3,0))) #lower:0 high school:1, \n",
    "                                                                       #college:2, graduatge: 3, \n",
    "# (3) sleep\n",
    "df_all = df_all[df_all.SLQ120 <= 4] \n",
    "df_all = df_all[df_all.SLD012 <= 14] # deal with missing values\n",
    "df_all = df_all[df_all.SLD013 <= 14]\n",
    "df_all['sleep_overall'] =  np.where((df_all['SLD012'] < 7)&(df_all['SLD013'] < 7), 0,\n",
    "                                    np.where((df_all['SLD012'] >= 7)&(df_all['SLD013'] >= 7),2,1)) \n",
    "                                                                #sleep worst:0, middle：1,#best: 2, \n",
    "\n",
    "# (4) diet\n",
    "df_all = df_all[df_all['DBD905'] <= 100]\n",
    "df_all = df_all[df_all['DBD910'] < 100]\n",
    "\n",
    "#(5) activity\n",
    "df_all = df_all[df_all['PAQ635'] <= 2] # deal missing\n",
    "df_all.loc[df_all['PAQ635'] == 2.0,'PAQ635'] = 0 # bicycle yes:1, no:0\n",
    "df_all.loc[df_all['PAQ635'] == 0,'PAQ640'] = 0\n",
    "df_all = df_all[df_all['PAQ640'] <= 7] # deal missing\n",
    "df_all.loc[df_all['PAQ650'] == 2,'PAQ650'] = 0\n",
    "df_all.loc[df_all['PAQ650'] == 0,'PAQ655'] = 0\n",
    "df_all = df_all[df_all['PAQ655'] <= 7] # deal missing\n",
    "df_all = df_all[df_all['PAQ665'] <= 2] # deal missing\n",
    "df_all.loc[df_all['PAQ665'] == 2.0,'PAQ665'] = 0 # moderate activity yes:1, no:0\n",
    "df_all.loc[df_all['PAQ665'] == 0,'PAQ670'] = 0\n",
    "df_all = df_all[df_all['PAQ670'] <= 7] # deal missing\n",
    "df_all = df_all[df_all['PAD680'] <= 1320] # deal missing\n",
    "\n",
    "# (6) smoke\n",
    "df_all = df_all[df_all['SMQ020'] <= 2] # deal missing      0:no smoke; 1:some: 2:everyday\n",
    "df_all['smoke_now'] = np.where(df_all['SMQ020'] == 2.0, 0, \n",
    "                             np.where(df_all['SMQ040'] == 3, 0,\n",
    "                             np.where(df_all['SMQ040'] == 2, 1,2))) \n",
    "# df_all = df_all.fillna({'SMD641':0})\n",
    "# df_all = df_all[df_all.SMD641 <= 30]\n",
    "df_all = df_all.fillna({'SMD650':0})\n",
    "df_all = df_all[df_all.SMD650 <= 45]\n",
    "\n",
    "# (7) alcohol\n",
    "df_all = df_all[df_all['ALQ111'] <= 2] # deal missing\n",
    "# a lot of work here, ensure that smaller number implies less drinking\n",
    "df_all.loc[df_all['ALQ111'] == 2.0,'ALQ121'] = 0.0\n",
    "df_all = df_all[df_all['ALQ121'] <= 10.0] # deal missing\n",
    "df_all['ALQ121'] = 11 - df_all['ALQ121']\n",
    "df_all.loc[df_all['ALQ121'] == 11.0,'ALQ121'] = 0\n",
    "# ALQ130 cleaning\n",
    "df_all.loc[(df_all['ALQ111'] == 2.0)|(df_all['ALQ121'] == 0),'ALQ130'] = 0.0\n",
    "df_all = df_all[df_all['ALQ130'] <= 15.0] # deal missing\n",
    "# ALQ 142, same process as ALQ121\n",
    "df_all.loc[(df_all['ALQ111'] == 2.0)|(df_all['ALQ121'] == 0),'ALQ142'] = 0.0\n",
    "df_all = df_all[df_all['ALQ142'] <= 10.0] # deal missing\n",
    "df_all['ALQ142'] = 11 - df_all['ALQ142']\n",
    "df_all.loc[df_all['ALQ142'] == 11.0,'ALQ142'] = 0\n",
    "# ALQ170 cleaning\n",
    "df_all.loc[(df_all['ALQ111'] == 2.0)|(df_all['ALQ121'] == 0),'ALQ170'] = 0.0\n",
    "df_all = df_all[df_all['ALQ170'] <= 30.0] # deal missing\n",
    "\n",
    "# remove redundant variables\n",
    "df_all = df_all.drop(['SEQN','SLD012','SLD013',\n",
    "                     'SMQ020','SMQ040','ALQ111'],axis = 1)"
   ]
  },
  {
   "cell_type": "code",
   "execution_count": 5,
   "id": "d845e8eb-202d-45a2-83fc-6578970cc3a6",
   "metadata": {
    "tags": []
   },
   "outputs": [
    {
     "name": "stdout",
     "output_type": "stream",
     "text": [
      "(2558, 41)\n",
      "min -106 \\ max 125\n"
     ]
    },
    {
     "data": {
      "text/html": [
       "<div>\n",
       "<style scoped>\n",
       "    .dataframe tbody tr th:only-of-type {\n",
       "        vertical-align: middle;\n",
       "    }\n",
       "\n",
       "    .dataframe tbody tr th {\n",
       "        vertical-align: top;\n",
       "    }\n",
       "\n",
       "    .dataframe thead th {\n",
       "        text-align: right;\n",
       "    }\n",
       "</style>\n",
       "<table border=\"1\" class=\"dataframe\">\n",
       "  <thead>\n",
       "    <tr style=\"text-align: right;\">\n",
       "      <th></th>\n",
       "      <th>weight_change</th>\n",
       "      <th>WHD050</th>\n",
       "      <th>WHD080A</th>\n",
       "      <th>WHD080B</th>\n",
       "      <th>WHD080C</th>\n",
       "      <th>WHD080D</th>\n",
       "      <th>WHD080E</th>\n",
       "      <th>WHD080F</th>\n",
       "      <th>WHD080G</th>\n",
       "      <th>WHD080H</th>\n",
       "      <th>...</th>\n",
       "      <th>PAQ665</th>\n",
       "      <th>PAQ670</th>\n",
       "      <th>PAD680</th>\n",
       "      <th>SMD650</th>\n",
       "      <th>ALQ121</th>\n",
       "      <th>ALQ130</th>\n",
       "      <th>ALQ142</th>\n",
       "      <th>ALQ170</th>\n",
       "      <th>sleep_overall</th>\n",
       "      <th>smoke_now</th>\n",
       "    </tr>\n",
       "  </thead>\n",
       "  <tbody>\n",
       "    <tr>\n",
       "      <th>0</th>\n",
       "      <td>10</td>\n",
       "      <td>200</td>\n",
       "      <td>0</td>\n",
       "      <td>1</td>\n",
       "      <td>0</td>\n",
       "      <td>1</td>\n",
       "      <td>0</td>\n",
       "      <td>0</td>\n",
       "      <td>0</td>\n",
       "      <td>0</td>\n",
       "      <td>...</td>\n",
       "      <td>1</td>\n",
       "      <td>4.0</td>\n",
       "      <td>480.0</td>\n",
       "      <td>0.0</td>\n",
       "      <td>1.0</td>\n",
       "      <td>1.0</td>\n",
       "      <td>0.0</td>\n",
       "      <td>0.0</td>\n",
       "      <td>2</td>\n",
       "      <td>0</td>\n",
       "    </tr>\n",
       "    <tr>\n",
       "      <th>5</th>\n",
       "      <td>8</td>\n",
       "      <td>170</td>\n",
       "      <td>0</td>\n",
       "      <td>1</td>\n",
       "      <td>0</td>\n",
       "      <td>0</td>\n",
       "      <td>0</td>\n",
       "      <td>0</td>\n",
       "      <td>0</td>\n",
       "      <td>0</td>\n",
       "      <td>...</td>\n",
       "      <td>0</td>\n",
       "      <td>0.0</td>\n",
       "      <td>360.0</td>\n",
       "      <td>0.0</td>\n",
       "      <td>0.0</td>\n",
       "      <td>0.0</td>\n",
       "      <td>0.0</td>\n",
       "      <td>0.0</td>\n",
       "      <td>2</td>\n",
       "      <td>0</td>\n",
       "    </tr>\n",
       "    <tr>\n",
       "      <th>7</th>\n",
       "      <td>15</td>\n",
       "      <td>140</td>\n",
       "      <td>1</td>\n",
       "      <td>1</td>\n",
       "      <td>1</td>\n",
       "      <td>1</td>\n",
       "      <td>0</td>\n",
       "      <td>0</td>\n",
       "      <td>0</td>\n",
       "      <td>0</td>\n",
       "      <td>...</td>\n",
       "      <td>1</td>\n",
       "      <td>2.0</td>\n",
       "      <td>180.0</td>\n",
       "      <td>0.0</td>\n",
       "      <td>0.0</td>\n",
       "      <td>0.0</td>\n",
       "      <td>0.0</td>\n",
       "      <td>0.0</td>\n",
       "      <td>0</td>\n",
       "      <td>0</td>\n",
       "    </tr>\n",
       "    <tr>\n",
       "      <th>12</th>\n",
       "      <td>5</td>\n",
       "      <td>115</td>\n",
       "      <td>0</td>\n",
       "      <td>0</td>\n",
       "      <td>1</td>\n",
       "      <td>1</td>\n",
       "      <td>1</td>\n",
       "      <td>1</td>\n",
       "      <td>0</td>\n",
       "      <td>0</td>\n",
       "      <td>...</td>\n",
       "      <td>0</td>\n",
       "      <td>0.0</td>\n",
       "      <td>600.0</td>\n",
       "      <td>0.0</td>\n",
       "      <td>5.0</td>\n",
       "      <td>2.0</td>\n",
       "      <td>0.0</td>\n",
       "      <td>0.0</td>\n",
       "      <td>2</td>\n",
       "      <td>0</td>\n",
       "    </tr>\n",
       "    <tr>\n",
       "      <th>14</th>\n",
       "      <td>3</td>\n",
       "      <td>127</td>\n",
       "      <td>0</td>\n",
       "      <td>0</td>\n",
       "      <td>1</td>\n",
       "      <td>1</td>\n",
       "      <td>0</td>\n",
       "      <td>0</td>\n",
       "      <td>0</td>\n",
       "      <td>0</td>\n",
       "      <td>...</td>\n",
       "      <td>0</td>\n",
       "      <td>0.0</td>\n",
       "      <td>60.0</td>\n",
       "      <td>0.0</td>\n",
       "      <td>0.0</td>\n",
       "      <td>0.0</td>\n",
       "      <td>0.0</td>\n",
       "      <td>0.0</td>\n",
       "      <td>1</td>\n",
       "      <td>0</td>\n",
       "    </tr>\n",
       "  </tbody>\n",
       "</table>\n",
       "<p>5 rows × 41 columns</p>\n",
       "</div>"
      ],
      "text/plain": [
       "    weight_change  WHD050  WHD080A  WHD080B  WHD080C  WHD080D  WHD080E  \\\n",
       "0              10     200        0        1        0        1        0   \n",
       "5               8     170        0        1        0        0        0   \n",
       "7              15     140        1        1        1        1        0   \n",
       "12              5     115        0        0        1        1        1   \n",
       "14              3     127        0        0        1        1        0   \n",
       "\n",
       "    WHD080F  WHD080G  WHD080H  ...  PAQ665  PAQ670  PAD680  SMD650  ALQ121  \\\n",
       "0         0        0        0  ...       1     4.0   480.0     0.0     1.0   \n",
       "5         0        0        0  ...       0     0.0   360.0     0.0     0.0   \n",
       "7         0        0        0  ...       1     2.0   180.0     0.0     0.0   \n",
       "12        1        0        0  ...       0     0.0   600.0     0.0     5.0   \n",
       "14        0        0        0  ...       0     0.0    60.0     0.0     0.0   \n",
       "\n",
       "    ALQ130  ALQ142  ALQ170  sleep_overall  smoke_now  \n",
       "0      1.0     0.0     0.0              2          0  \n",
       "5      0.0     0.0     0.0              2          0  \n",
       "7      0.0     0.0     0.0              0          0  \n",
       "12     2.0     0.0     0.0              2          0  \n",
       "14     0.0     0.0     0.0              1          0  \n",
       "\n",
       "[5 rows x 41 columns]"
      ]
     },
     "execution_count": 5,
     "metadata": {},
     "output_type": "execute_result"
    }
   ],
   "source": [
    "# 4.choose the sample\n",
    "# sample: want to lose weight\n",
    "df_wls_b_one_hot = df_all[df_all.WHQ070==1.0]\n",
    "Y = df_wls_b_one_hot['WHD020'].values - df_wls_b_one_hot['WHD050'].values\n",
    "df_wls_b_one_hot = df_wls_b_one_hot.drop(['WHD020','WHQ070'],axis = 1)\n",
    "df_wls_b_one_hot.insert(loc=0,column='weight_change',value=Y)\n",
    "\n",
    "\n",
    "print(df_wls_b_one_hot.shape)\n",
    "print('min',min(Y), '\\ max',max(Y))\n",
    "df_wls_b_one_hot.head()"
   ]
  },
  {
   "cell_type": "markdown",
   "id": "49628301-a785-47ab-ad76-e1c0d9947b77",
   "metadata": {},
   "source": [
    "#### Additional One-hot encoding"
   ]
  },
  {
   "cell_type": "code",
   "execution_count": 6,
   "id": "4657434a-7184-4f7f-b6bd-da50fa1746f2",
   "metadata": {
    "tags": []
   },
   "outputs": [
    {
     "name": "stdout",
     "output_type": "stream",
     "text": [
      "(2558, 48)\n",
      "min -106 \\ max 125\n"
     ]
    },
    {
     "data": {
      "text/html": [
       "<div>\n",
       "<style scoped>\n",
       "    .dataframe tbody tr th:only-of-type {\n",
       "        vertical-align: middle;\n",
       "    }\n",
       "\n",
       "    .dataframe tbody tr th {\n",
       "        vertical-align: top;\n",
       "    }\n",
       "\n",
       "    .dataframe thead th {\n",
       "        text-align: right;\n",
       "    }\n",
       "</style>\n",
       "<table border=\"1\" class=\"dataframe\">\n",
       "  <thead>\n",
       "    <tr style=\"text-align: right;\">\n",
       "      <th></th>\n",
       "      <th>weight_change</th>\n",
       "      <th>WHD050</th>\n",
       "      <th>WHD080A</th>\n",
       "      <th>WHD080B</th>\n",
       "      <th>WHD080C</th>\n",
       "      <th>WHD080D</th>\n",
       "      <th>WHD080E</th>\n",
       "      <th>WHD080F</th>\n",
       "      <th>WHD080G</th>\n",
       "      <th>WHD080H</th>\n",
       "      <th>...</th>\n",
       "      <th>edu_high</th>\n",
       "      <th>edu_col</th>\n",
       "      <th>edu_gra</th>\n",
       "      <th>day_tired_rare</th>\n",
       "      <th>day_tired_some</th>\n",
       "      <th>day_tired_often</th>\n",
       "      <th>sleep_best</th>\n",
       "      <th>sleep_soso</th>\n",
       "      <th>smoke_some</th>\n",
       "      <th>smoke_often</th>\n",
       "    </tr>\n",
       "  </thead>\n",
       "  <tbody>\n",
       "    <tr>\n",
       "      <th>0</th>\n",
       "      <td>10</td>\n",
       "      <td>200</td>\n",
       "      <td>0</td>\n",
       "      <td>1</td>\n",
       "      <td>0</td>\n",
       "      <td>1</td>\n",
       "      <td>0</td>\n",
       "      <td>0</td>\n",
       "      <td>0</td>\n",
       "      <td>0</td>\n",
       "      <td>...</td>\n",
       "      <td>0</td>\n",
       "      <td>0</td>\n",
       "      <td>1</td>\n",
       "      <td>0</td>\n",
       "      <td>0</td>\n",
       "      <td>0</td>\n",
       "      <td>1</td>\n",
       "      <td>0</td>\n",
       "      <td>0</td>\n",
       "      <td>0</td>\n",
       "    </tr>\n",
       "    <tr>\n",
       "      <th>5</th>\n",
       "      <td>8</td>\n",
       "      <td>170</td>\n",
       "      <td>0</td>\n",
       "      <td>1</td>\n",
       "      <td>0</td>\n",
       "      <td>0</td>\n",
       "      <td>0</td>\n",
       "      <td>0</td>\n",
       "      <td>0</td>\n",
       "      <td>0</td>\n",
       "      <td>...</td>\n",
       "      <td>0</td>\n",
       "      <td>0</td>\n",
       "      <td>0</td>\n",
       "      <td>0</td>\n",
       "      <td>0</td>\n",
       "      <td>0</td>\n",
       "      <td>1</td>\n",
       "      <td>0</td>\n",
       "      <td>0</td>\n",
       "      <td>0</td>\n",
       "    </tr>\n",
       "    <tr>\n",
       "      <th>7</th>\n",
       "      <td>15</td>\n",
       "      <td>140</td>\n",
       "      <td>1</td>\n",
       "      <td>1</td>\n",
       "      <td>1</td>\n",
       "      <td>1</td>\n",
       "      <td>0</td>\n",
       "      <td>0</td>\n",
       "      <td>0</td>\n",
       "      <td>0</td>\n",
       "      <td>...</td>\n",
       "      <td>0</td>\n",
       "      <td>0</td>\n",
       "      <td>1</td>\n",
       "      <td>1</td>\n",
       "      <td>0</td>\n",
       "      <td>0</td>\n",
       "      <td>0</td>\n",
       "      <td>0</td>\n",
       "      <td>0</td>\n",
       "      <td>0</td>\n",
       "    </tr>\n",
       "    <tr>\n",
       "      <th>12</th>\n",
       "      <td>5</td>\n",
       "      <td>115</td>\n",
       "      <td>0</td>\n",
       "      <td>0</td>\n",
       "      <td>1</td>\n",
       "      <td>1</td>\n",
       "      <td>1</td>\n",
       "      <td>1</td>\n",
       "      <td>0</td>\n",
       "      <td>0</td>\n",
       "      <td>...</td>\n",
       "      <td>0</td>\n",
       "      <td>1</td>\n",
       "      <td>0</td>\n",
       "      <td>0</td>\n",
       "      <td>0</td>\n",
       "      <td>0</td>\n",
       "      <td>1</td>\n",
       "      <td>0</td>\n",
       "      <td>0</td>\n",
       "      <td>0</td>\n",
       "    </tr>\n",
       "    <tr>\n",
       "      <th>14</th>\n",
       "      <td>3</td>\n",
       "      <td>127</td>\n",
       "      <td>0</td>\n",
       "      <td>0</td>\n",
       "      <td>1</td>\n",
       "      <td>1</td>\n",
       "      <td>0</td>\n",
       "      <td>0</td>\n",
       "      <td>0</td>\n",
       "      <td>0</td>\n",
       "      <td>...</td>\n",
       "      <td>0</td>\n",
       "      <td>0</td>\n",
       "      <td>1</td>\n",
       "      <td>1</td>\n",
       "      <td>0</td>\n",
       "      <td>0</td>\n",
       "      <td>0</td>\n",
       "      <td>1</td>\n",
       "      <td>0</td>\n",
       "      <td>0</td>\n",
       "    </tr>\n",
       "  </tbody>\n",
       "</table>\n",
       "<p>5 rows × 48 columns</p>\n",
       "</div>"
      ],
      "text/plain": [
       "    weight_change  WHD050  WHD080A  WHD080B  WHD080C  WHD080D  WHD080E  \\\n",
       "0              10     200        0        1        0        1        0   \n",
       "5               8     170        0        1        0        0        0   \n",
       "7              15     140        1        1        1        1        0   \n",
       "12              5     115        0        0        1        1        1   \n",
       "14              3     127        0        0        1        1        0   \n",
       "\n",
       "    WHD080F  WHD080G  WHD080H  ...  edu_high  edu_col  edu_gra  \\\n",
       "0         0        0        0  ...         0        0        1   \n",
       "5         0        0        0  ...         0        0        0   \n",
       "7         0        0        0  ...         0        0        1   \n",
       "12        1        0        0  ...         0        1        0   \n",
       "14        0        0        0  ...         0        0        1   \n",
       "\n",
       "    day_tired_rare  day_tired_some  day_tired_often  sleep_best  sleep_soso  \\\n",
       "0                0               0                0           1           0   \n",
       "5                0               0                0           1           0   \n",
       "7                1               0                0           0           0   \n",
       "12               0               0                0           1           0   \n",
       "14               1               0                0           0           1   \n",
       "\n",
       "    smoke_some  smoke_often  \n",
       "0            0            0  \n",
       "5            0            0  \n",
       "7            0            0  \n",
       "12           0            0  \n",
       "14           0            0  \n",
       "\n",
       "[5 rows x 48 columns]"
      ]
     },
     "execution_count": 6,
     "metadata": {},
     "output_type": "execute_result"
    }
   ],
   "source": [
    "# (2) demographic\n",
    "df_all['mar_marry'] = np.where(df_all['DMDMARTZ'] == 1, 1, 0)\n",
    "df_all['mar_divorce'] = np.where(df_all['DMDMARTZ'] == 2, 1, 0)\n",
    "df_all['edu_high'] = np.where(df_all['DMDEDUC2'] == 1, 1, 0)\n",
    "df_all['edu_col'] = np.where(df_all['DMDEDUC2'] == 2, 1, 0)\n",
    "df_all['edu_gra'] = np.where(df_all['DMDEDUC2'] == 3, 1, 0)\n",
    "#(3) sleep\n",
    "df_all['day_tired_rare'] = np.where(df_all['SLQ120'] == 1, 1, 0)\n",
    "df_all['day_tired_some'] = np.where(df_all['SLQ120'] == 2, 1, 0)\n",
    "df_all['day_tired_often'] = np.where(df_all['SLQ120'] >=3 , 1, 0)\n",
    "df_all['sleep_best'] = np.where(df_all['sleep_overall'] == 2, 1, 0)\n",
    "df_all['sleep_soso'] = np.where(df_all['sleep_overall'] == 1, 1, 0)\n",
    "# (4) diet\n",
    "# special\n",
    "df_all.loc[df_all['DBD905']>=10,'DBD905'] = 10\n",
    "# (6) smoke\n",
    "df_all['smoke_some'] = np.where(df_all['smoke_now'] == 1, 1,0)\n",
    "df_all['smoke_often'] = np.where(df_all['smoke_now'] == 2, 1,0)\n",
    "\n",
    "df_all = df_all.drop(['DMDMARTZ','DMDEDUC2','SLQ120',\n",
    "                     'sleep_overall','smoke_now'],axis = 1)\n",
    "\n",
    "df_wls = df_all[df_all.WHQ070==1.0]\n",
    "Y = df_wls['WHD020'].values - df_wls['WHD050'].values\n",
    "df_wls = df_wls.drop(['WHD020','WHQ070'],axis = 1)\n",
    "df_wls.insert(loc=0,column='weight_change',value=Y)\n",
    "print(df_wls.shape)\n",
    "print('min',min(Y), '\\ max',max(Y))\n",
    "df_wls.head()\n"
   ]
  },
  {
   "cell_type": "markdown",
   "id": "b8e494fc-d5d7-4408-90ee-356b0026d9be",
   "metadata": {
    "tags": []
   },
   "source": [
    "## Q2. Weight loss strategy and regression"
   ]
  },
  {
   "cell_type": "markdown",
   "id": "7ecb9a42-6701-45c6-937a-4a3c5697ab2c",
   "metadata": {
    "jp-MarkdownHeadingCollapsed": true,
    "tags": []
   },
   "source": [
    "### Method1:Linear model"
   ]
  },
  {
   "cell_type": "markdown",
   "id": "2f49f441-e34d-453d-a9de-08fe20cf978a",
   "metadata": {
    "tags": []
   },
   "source": [
    "#### 1) cross validation"
   ]
  },
  {
   "cell_type": "code",
   "execution_count": 7,
   "id": "544d45a5-bb92-47f9-8e38-126205110965",
   "metadata": {
    "tags": []
   },
   "outputs": [],
   "source": [
    "# cross validation\n",
    "k_cv = 5\n",
    "cv = KFold(n_splits=k_cv, random_state=2023, shuffle=True)"
   ]
  },
  {
   "cell_type": "code",
   "execution_count": 8,
   "id": "c6e14432-3f4e-4efc-9cf9-52d44550f0e4",
   "metadata": {
    "tags": []
   },
   "outputs": [
    {
     "data": {
      "text/plain": [
       "array([183.76172453, 237.8255746 , 209.40484015, 223.42887122,\n",
       "       223.1121305 ])"
      ]
     },
     "execution_count": 8,
     "metadata": {},
     "output_type": "execute_result"
    }
   ],
   "source": [
    "# x and y\n",
    "Y_wls = df_wls['weight_change'].values\n",
    "X_wls = df_wls.drop(['weight_change'],axis=1)\n",
    "\n",
    "# linear regression\n",
    "linear_wls = LinearRegression()\n",
    "\n",
    "# Calculate MSE across folds\n",
    "scores_linear = -cross_val_score(linear_wls, X_wls, Y_wls, scoring='neg_mean_squared_error', cv=cv)\n",
    "scores_linear"
   ]
  },
  {
   "cell_type": "code",
   "execution_count": 9,
   "id": "f0d0a503-391f-4736-8c15-5d02714b8e58",
   "metadata": {},
   "outputs": [
    {
     "name": "stdout",
     "output_type": "stream",
     "text": [
      "Mean MSE: 215.5066, plus minus 8.1577\n"
     ]
    }
   ],
   "source": [
    "print(f\"Mean MSE: {scores_linear.mean():.4f}, plus minus {np.sqrt(scores_linear.var()/len(scores_linear)):.4f}\")"
   ]
  },
  {
   "cell_type": "markdown",
   "id": "27ba802c-ca59-4b95-a282-0f7a3b4d9bed",
   "metadata": {},
   "source": [
    "#### 2) train/test split"
   ]
  },
  {
   "cell_type": "code",
   "execution_count": 10,
   "id": "d5604657-556d-4e48-85a9-900171235854",
   "metadata": {
    "tags": []
   },
   "outputs": [],
   "source": [
    "X_train, X_test, Y_train, Y_test = train_test_split(X_wls, Y_wls, \n",
    "                                                    train_size=0.7, random_state=3)"
   ]
  },
  {
   "cell_type": "markdown",
   "id": "bf9dd9bc-138f-4eb1-a225-2fcd1bd0aa83",
   "metadata": {},
   "source": [
    "#### 3）regression and predict"
   ]
  },
  {
   "cell_type": "code",
   "execution_count": 11,
   "id": "6aa9bb91-ac26-4ea6-9cec-1ed36a2a3f47",
   "metadata": {},
   "outputs": [
    {
     "name": "stdout",
     "output_type": "stream",
     "text": [
      "MSE: 243.8995145368983\n",
      "R^2 train: \u001b[1m0.089\u001b[0m\n",
      "R^2 test:  \u001b[1m0.015\n"
     ]
    }
   ],
   "source": [
    "# Linear fit\n",
    "linear_wls.fit(X_train, Y_train)\n",
    "\n",
    "y_train_pred = linear_wls.predict(X_train)\n",
    "y_test_pred = linear_wls.predict(X_test)\n",
    "\n",
    "print('MSE:',mean_squared_error(Y_test,y_test_pred))\n",
    "print('R^2 train:',f'\\033[1m{r2_score(Y_train,y_train_pred):.3f}\\033[0m')\n",
    "print('R^2 test: ',f'\\033[1m{r2_score(Y_test,y_test_pred):.3f}')"
   ]
  },
  {
   "cell_type": "markdown",
   "id": "bede7ddb-ea21-4286-9408-7df64a63689e",
   "metadata": {
    "jp-MarkdownHeadingCollapsed": true,
    "tags": []
   },
   "source": [
    "#### 4）Result"
   ]
  },
  {
   "cell_type": "code",
   "execution_count": 12,
   "id": "8031057e-324f-4891-ad6b-efa7dd1e37ac",
   "metadata": {
    "tags": []
   },
   "outputs": [
    {
     "name": "stdout",
     "output_type": "stream",
     "text": [
      "                            OLS Regression Results                            \n",
      "==============================================================================\n",
      "Dep. Variable:                      y   R-squared:                       0.089\n",
      "Model:                            OLS   Adj. R-squared:                  0.064\n",
      "Method:                 Least Squares   F-statistic:                     3.623\n",
      "Date:                Sun, 21 Apr 2024   Prob (F-statistic):           5.90e-15\n",
      "Time:                        14:36:03   Log-Likelihood:                -7247.3\n",
      "No. Observations:                1790   AIC:                         1.459e+04\n",
      "Df Residuals:                    1742   BIC:                         1.485e+04\n",
      "Df Model:                          47                                         \n",
      "Covariance Type:            nonrobust                                         \n",
      "===================================================================================\n",
      "                      coef    std err          t      P>|t|      [0.025      0.975]\n",
      "-----------------------------------------------------------------------------------\n",
      "WHD050             -0.0255      0.007     -3.465      0.001      -0.040      -0.011\n",
      "WHD080A             0.2375      0.709      0.335      0.738      -1.152       1.627\n",
      "WHD080B             2.4697      0.774      3.191      0.001       0.952       3.988\n",
      "WHD080C            -1.1046      0.783     -1.410      0.159      -2.641       0.432\n",
      "WHD080D             1.0342      0.770      1.342      0.180      -0.477       2.545\n",
      "WHD080E             0.9226      0.833      1.107      0.268      -0.712       2.557\n",
      "WHD080F             1.0386      1.236      0.841      0.401      -1.385       3.462\n",
      "WHD080G             1.1002      1.343      0.819      0.413      -1.533       3.733\n",
      "WHD080H             5.3168      1.750      3.037      0.002       1.883       8.750\n",
      "WHD080I             6.2294      2.023      3.079      0.002       2.262      10.197\n",
      "WHD080J             2.8973      1.557      1.861      0.063      -0.157       5.951\n",
      "WHD080K             1.5147      2.506      0.604      0.546      -3.401       6.430\n",
      "WHD080M             1.0810      0.764      1.416      0.157      -0.417       2.579\n",
      "WHD080N             1.0738      1.450      0.741      0.459      -1.770       3.918\n",
      "WHD080O             0.2214      0.778      0.285      0.776      -1.304       1.747\n",
      "WHD080Q             1.3428      0.777      1.728      0.084      -0.182       2.867\n",
      "WHD080S            -0.7065      0.777     -0.910      0.363      -2.230       0.817\n",
      "WHD080T            -1.2878      0.774     -1.664      0.096      -2.806       0.230\n",
      "WHD080U            13.7528      8.218      1.674      0.094      -2.365      29.871\n",
      "RIAGENDR            0.4391      0.785      0.559      0.576      -1.101       1.979\n",
      "RIDAGEYR           -0.1226      0.025     -4.828      0.000      -0.172      -0.073\n",
      "DBD905              0.0230      0.119      0.194      0.846      -0.210       0.256\n",
      "DBD910              0.0093      0.063      0.148      0.883      -0.114       0.133\n",
      "PAQ635              1.0506      1.878      0.559      0.576      -2.634       4.735\n",
      "PAQ640             -0.0367      0.389     -0.094      0.925      -0.800       0.726\n",
      "PAQ650             -1.0758      1.735     -0.620      0.535      -4.479       2.327\n",
      "PAQ655             -0.3778      0.447     -0.846      0.398      -1.254       0.498\n",
      "PAQ665             -0.1646      1.294     -0.127      0.899      -2.703       2.374\n",
      "PAQ670              0.1577      0.313      0.504      0.615      -0.456       0.772\n",
      "PAD680              0.0012      0.002      0.693      0.488      -0.002       0.005\n",
      "SMD650              0.2486      0.161      1.545      0.122      -0.067       0.564\n",
      "ALQ121              0.0489      0.148      0.331      0.740      -0.241       0.339\n",
      "ALQ130              0.1525      0.224      0.680      0.496      -0.287       0.592\n",
      "ALQ142              0.1362      0.265      0.515      0.607      -0.383       0.655\n",
      "ALQ170             -0.3496      0.147     -2.374      0.018      -0.639      -0.061\n",
      "mar_marry           0.1653      0.961      0.172      0.863      -1.720       2.050\n",
      "mar_divorce        -0.5043      1.205     -0.419      0.676      -2.867       1.859\n",
      "edu_high            0.5867      1.179      0.498      0.619      -1.726       2.900\n",
      "edu_col            -0.9362      1.102     -0.849      0.396      -3.098       1.225\n",
      "edu_gra            -3.2036      1.167     -2.745      0.006      -5.493      -0.915\n",
      "day_tired_rare      0.0578      1.173      0.049      0.961      -2.242       2.358\n",
      "day_tired_some      0.9821      1.098      0.894      0.371      -1.172       3.136\n",
      "day_tired_often     1.3436      1.158      1.161      0.246      -0.927       3.614\n",
      "sleep_best         -2.0057      1.093     -1.834      0.067      -4.150       0.139\n",
      "sleep_soso         -0.1671      1.284     -0.130      0.896      -2.685       2.351\n",
      "smoke_some         -0.1828      2.026     -0.090      0.928      -4.157       3.791\n",
      "smoke_often        -2.1920      2.147     -1.021      0.307      -6.403       2.019\n",
      "intercept          14.7344      2.862      5.149      0.000       9.122      20.347\n",
      "==============================================================================\n",
      "Omnibus:                      455.337   Durbin-Watson:                   1.975\n",
      "Prob(Omnibus):                  0.000   Jarque-Bera (JB):             6850.578\n",
      "Skew:                           0.771   Prob(JB):                         0.00\n",
      "Kurtosis:                      12.459   Cond. No.                     1.12e+04\n",
      "==============================================================================\n",
      "\n",
      "Notes:\n",
      "[1] Standard Errors assume that the covariance matrix of the errors is correctly specified.\n",
      "[2] The condition number is large, 1.12e+04. This might indicate that there are\n",
      "strong multicollinearity or other numerical problems.\n"
     ]
    }
   ],
   "source": [
    "X_train_df = pd.DataFrame(X_train)\n",
    "X_train_df.columns = df_wls.iloc[:,1:].columns\n",
    "model_jjj = sm.OLS(Y_train, X_train_df.assign(intercept=1)).fit()\n",
    "  \n",
    "# model summary\n",
    "print(model_jjj.summary())"
   ]
  },
  {
   "cell_type": "markdown",
   "id": "af3e2b1b-ffc7-4e9f-b719-8b3d86623e43",
   "metadata": {
    "jp-MarkdownHeadingCollapsed": true,
    "tags": []
   },
   "source": [
    "### Method2: Lasso"
   ]
  },
  {
   "cell_type": "markdown",
   "id": "ae0fb2e6-bb43-47f3-89dc-a1a84782c649",
   "metadata": {
    "tags": []
   },
   "source": [
    "##### consider normalize"
   ]
  },
  {
   "cell_type": "code",
   "execution_count": 13,
   "id": "164bcb25-24d0-4d17-a86a-6ba5e7b61707",
   "metadata": {
    "tags": []
   },
   "outputs": [
    {
     "name": "stdout",
     "output_type": "stream",
     "text": [
      "0.3217641750250737\n",
      "MSE: 238.01576927766897\n",
      "R^2 train: \u001b[1m0.068\u001b[0m\n",
      "R^2 test:  \u001b[1m0.039\n"
     ]
    }
   ],
   "source": [
    "X_scaled_train = preprocessing.StandardScaler().fit_transform(X_train)\n",
    "X_scaled_test = preprocessing.StandardScaler().fit_transform(X_test)\n",
    "\n",
    "alpha_range = np.logspace(-2,2,200,base=10)\n",
    "# LassoCV\n",
    "lasso_ = LassoCV(alphas=alpha_range, cv=cv).fit(X_scaled_train, Y_train)\n",
    "\n",
    "# best\n",
    "best_alpha = lasso_.alpha_ \n",
    "print(best_alpha)\n",
    "\n",
    "lasso_wls_scaled = Lasso(alpha = 0.4055)\n",
    "lasso_wls_scaled.fit(X_scaled_train, Y_train)\n",
    "\n",
    "y_train_pred = lasso_wls_scaled.predict(X_scaled_train)\n",
    "y_test_pred = lasso_wls_scaled.predict(X_scaled_test)\n",
    "\n",
    "print('MSE:',mean_squared_error(Y_test,y_test_pred))\n",
    "print('R^2 train:',f'\\033[1m{r2_score(Y_train,y_train_pred):.3f}\\033[0m')\n",
    "print('R^2 test: ',f'\\033[1m{r2_score(Y_test,y_test_pred):.3f}')"
   ]
  },
  {
   "cell_type": "code",
   "execution_count": 14,
   "id": "17d5c6fb-eb5b-424f-aa73-096eb8a195fa",
   "metadata": {
    "tags": []
   },
   "outputs": [
    {
     "data": {
      "text/plain": [
       "array([187.37673649, 239.26909652, 204.89989822, 216.64854023,\n",
       "       218.50446204])"
      ]
     },
     "execution_count": 14,
     "metadata": {},
     "output_type": "execute_result"
    }
   ],
   "source": [
    "# Calculate MSE across folds\n",
    "scores_lasso = -cross_val_score(lasso_wls_scaled, X_wls, Y_wls, scoring='neg_mean_squared_error', cv=cv)\n",
    "scores_lasso"
   ]
  },
  {
   "cell_type": "code",
   "execution_count": 15,
   "id": "38bc41a9-822e-417f-90eb-800969613765",
   "metadata": {
    "tags": []
   },
   "outputs": [
    {
     "name": "stdout",
     "output_type": "stream",
     "text": [
      "Mean MSE: 213.3397, plus minus 7.6296\n"
     ]
    }
   ],
   "source": [
    "print(f\"Mean MSE: {scores_lasso.mean():.4f}, plus minus {np.sqrt(scores_lasso.var()/len(scores_lasso)):.4f}\")"
   ]
  },
  {
   "cell_type": "markdown",
   "id": "8850642f-2798-4272-b22c-b42ec49f33a6",
   "metadata": {
    "tags": []
   },
   "source": [
    "#### 3）Result"
   ]
  },
  {
   "cell_type": "code",
   "execution_count": 16,
   "id": "3f5f0b26-0225-49e1-945d-a5755057bb4c",
   "metadata": {
    "tags": []
   },
   "outputs": [
    {
     "name": "stdout",
     "output_type": "stream",
     "text": [
      "                            OLS Regression Results                            \n",
      "==============================================================================\n",
      "Dep. Variable:                      y   R-squared:                       0.080\n",
      "Model:                            OLS   Adj. R-squared:                  0.069\n",
      "Method:                 Least Squares   F-statistic:                     7.344\n",
      "Date:                Sun, 21 Apr 2024   Prob (F-statistic):           3.17e-21\n",
      "Time:                        14:36:03   Log-Likelihood:                -7255.9\n",
      "No. Observations:                1790   AIC:                         1.456e+04\n",
      "Df Residuals:                    1768   BIC:                         1.468e+04\n",
      "Df Model:                          21                                         \n",
      "Covariance Type:            nonrobust                                         \n",
      "===================================================================================\n",
      "                      coef    std err          t      P>|t|      [0.025      0.975]\n",
      "-----------------------------------------------------------------------------------\n",
      "WHD050             -0.0275      0.007     -3.846      0.000      -0.041      -0.013\n",
      "WHD080B             2.1857      0.733      2.983      0.003       0.749       3.623\n",
      "WHD080E             0.7382      0.812      0.909      0.364      -0.855       2.332\n",
      "WHD080F             1.0085      1.210      0.833      0.405      -1.365       3.382\n",
      "WHD080G             1.3187      1.326      0.994      0.320      -1.283       3.920\n",
      "WHD080H             5.3806      1.726      3.117      0.002       1.995       8.766\n",
      "WHD080I             6.5203      2.001      3.259      0.001       2.596      10.445\n",
      "WHD080J             2.6916      1.539      1.748      0.081      -0.328       5.711\n",
      "WHD080M             0.8956      0.737      1.216      0.224      -0.550       2.341\n",
      "WHD080Q             0.8522      0.729      1.169      0.243      -0.578       2.282\n",
      "WHD080U            12.2882      8.130      1.511      0.131      -3.658      28.234\n",
      "RIAGENDR            0.0372      0.749      0.050      0.960      -1.432       1.506\n",
      "RIDAGEYR           -0.1347      0.021     -6.272      0.000      -0.177      -0.093\n",
      "PAQ650             -0.8727      1.653     -0.528      0.598      -4.115       2.369\n",
      "PAQ655             -0.3326      0.424     -0.784      0.433      -1.164       0.499\n",
      "SMD650              0.1230      0.096      1.286      0.199      -0.065       0.311\n",
      "ALQ170             -0.2314      0.120     -1.932      0.053      -0.466       0.003\n",
      "edu_high            1.2354      0.888      1.391      0.164      -0.506       2.977\n",
      "edu_gra            -2.3113      0.793     -2.915      0.004      -3.866      -0.756\n",
      "day_tired_often     0.6128      0.753      0.813      0.416      -0.865       2.090\n",
      "sleep_best         -1.8315      0.733     -2.500      0.013      -3.268      -0.395\n",
      "intercept          16.9899      2.160      7.866      0.000      12.753      21.226\n",
      "==============================================================================\n",
      "Omnibus:                      452.805   Durbin-Watson:                   1.957\n",
      "Prob(Omnibus):                  0.000   Jarque-Bera (JB):             6723.856\n",
      "Skew:                           0.768   Prob(JB):                         0.00\n",
      "Kurtosis:                      12.370   Cond. No.                     5.02e+03\n",
      "==============================================================================\n",
      "\n",
      "Notes:\n",
      "[1] Standard Errors assume that the covariance matrix of the errors is correctly specified.\n",
      "[2] The condition number is large, 5.02e+03. This might indicate that there are\n",
      "strong multicollinearity or other numerical problems.\n"
     ]
    }
   ],
   "source": [
    "dic={'特征':X_wls.columns,'系数':lasso_wls_scaled.coef_}\n",
    "df_jjj = pd.DataFrame(dic)\n",
    "df_1_jjj = df_jjj[df_jjj['系数']!=0]\n",
    "\n",
    "X_train_lasso = X_train_df.loc[:,df_1_jjj.iloc[:,0]]\n",
    "model_jjj = sm.OLS(Y_train, X_train_lasso.assign(intercept=1)).fit()\n",
    "  \n",
    "# model summary\n",
    "print(model_jjj.summary())"
   ]
  },
  {
   "cell_type": "markdown",
   "id": "f34d968d-06cd-4fda-8a0a-7f9685e3a432",
   "metadata": {
    "jp-MarkdownHeadingCollapsed": true,
    "tags": []
   },
   "source": [
    "### Method3: GAM"
   ]
  },
  {
   "cell_type": "code",
   "execution_count": 17,
   "id": "a867edb3-1968-4793-b0bd-fe5f8f4bab38",
   "metadata": {
    "tags": []
   },
   "outputs": [
    {
     "name": "stdout",
     "output_type": "stream",
     "text": [
      "MSE: 245.3728032972947\n",
      "R^2 train: \u001b[1m0.115\u001b[0m\n",
      "R^2 test:  \u001b[1m0.009\n"
     ]
    }
   ],
   "source": [
    "Y_wls_gam = df_wls_b_one_hot['weight_change'].values\n",
    "X_wls_gam = df_wls_b_one_hot.drop(['weight_change'],axis=1)\n",
    "X_train_gam, X_test_gam, Y_train_gam, Y_test_gam = train_test_split(X_wls_gam, Y_wls_gam, \n",
    "                                                    train_size=0.7, random_state=3)\n",
    "\n",
    "# get back the factor!!!\n",
    "                                 # train\n",
    "X_gam = X_train_lasso.drop(['edu_high','edu_gra', 'day_tired_often','sleep_best'], axis=1)\n",
    "name_gam = X_gam.columns\n",
    "row_index_gam = X_gam.index\n",
    "X_gam = preprocessing.StandardScaler().fit_transform(X_gam)\n",
    "X_gam = pd.DataFrame(X_gam,columns = name_gam, index = row_index_gam)\n",
    "X_gam['DMDEDUC2'] = X_train_gam['DMDEDUC2']\n",
    "X_gam['SLQ120'] = X_train_gam['SLQ120']\n",
    "X_gam['sleep_overall'] = X_train_gam['sleep_overall']\n",
    "                                 # test\n",
    "X_test_df = X_test\n",
    "X_test_df.columns = df_wls.iloc[:,1:].columns\n",
    "X_test_lasso = X_test_df.loc[:,df_1_jjj.iloc[:,0]]\n",
    "X_gam_test = X_test_lasso.drop(['edu_high','edu_gra', 'day_tired_often','sleep_best'], axis=1)\n",
    "row_index_gam_2 = X_gam_test.index\n",
    "X_gam_test = preprocessing.StandardScaler().fit_transform(X_gam_test)\n",
    "X_gam_test = pd.DataFrame(X_gam_test,columns = name_gam, index = row_index_gam_2)\n",
    "X_gam_test['DMDEDUC2'] = X_test_gam['DMDEDUC2']\n",
    "X_gam_test['SLQ120'] = X_test_gam['SLQ120']\n",
    "X_gam_test['sleep_overall'] = X_test_gam['sleep_overall']\n",
    "\n",
    "                                 # overall\n",
    "X_df = X_wls\n",
    "X_lasso = X_df.loc[:,df_1_jjj.iloc[:,0]]\n",
    "X_gam_all = X_lasso.drop(['edu_high','edu_gra', 'day_tired_often','sleep_best'], axis=1)\n",
    "row_index_gam_3 = X_gam_all.index\n",
    "X_gam_all = preprocessing.StandardScaler().fit_transform(X_gam_all)\n",
    "X_gam_all = pd.DataFrame(X_gam_all,columns = name_gam, index = row_index_gam_3)\n",
    "X_gam_all['DMDEDUC2'] = X_wls_gam['DMDEDUC2']\n",
    "X_gam_all['SLQ120'] = X_wls_gam['SLQ120']\n",
    "X_gam_all['sleep_overall'] = X_wls_gam['sleep_overall']\n",
    "\n",
    "# fit the model\n",
    "gam = LinearGAM(s(0)+l(1)+l(2)+l(3)+l(4)+l(5)+\n",
    "                l(6)+l(7)+l(8)+l(9)+l(10)+f(11)+s(12)+\n",
    "                l(14)+s(15)+s(16)+f(17)+f(18)+f(19))\n",
    "gam.fit(X_gam, Y_train_gam)\n",
    "\n",
    "y_train_pred = gam.predict(X_gam)\n",
    "y_test_pred = gam.predict(X_gam_test)\n",
    "\n",
    "print('MSE:',mean_squared_error(Y_test,y_test_pred))\n",
    "print('R^2 train:',f'\\033[1m{r2_score(Y_train,y_train_pred):.3f}\\033[0m')\n",
    "print('R^2 test: ',f'\\033[1m{r2_score(Y_test,y_test_pred):.3f}')"
   ]
  },
  {
   "cell_type": "markdown",
   "id": "bca82ec7-013e-4287-b164-761d702d6b25",
   "metadata": {
    "tags": []
   },
   "source": [
    "#### 3）Result"
   ]
  },
  {
   "cell_type": "code",
   "execution_count": 18,
   "id": "a07f39cb-a008-4249-a760-19c4a86df58d",
   "metadata": {
    "tags": []
   },
   "outputs": [
    {
     "name": "stdout",
     "output_type": "stream",
     "text": [
      "LinearGAM                                                                                                 \n",
      "=============================================== ==========================================================\n",
      "Distribution:                        NormalDist Effective DoF:                                     63.6011\n",
      "Link Function:                     IdentityLink Log Likelihood:                                -11076.3756\n",
      "Number of Samples:                         1790 AIC:                                            22281.9535\n",
      "                                                AICc:                                           22286.8687\n",
      "                                                GCV:                                               206.926\n",
      "                                                Scale:                                            193.7351\n",
      "                                                Pseudo R-Squared:                                   0.1153\n",
      "==========================================================================================================\n",
      "Feature Function                  Lambda               Rank         EDoF         P > x        Sig. Code   \n",
      "================================= ==================== ============ ============ ============ ============\n",
      "s(0)                              [0.6]                20           12.8         1.53e-03     **          \n",
      "l(1)                              [0.6]                1            1.0          1.06e-03     **          \n",
      "l(2)                              [0.6]                1            1.0          4.13e-01                 \n",
      "l(3)                              [0.6]                1            1.0          4.45e-01                 \n",
      "l(4)                              [0.6]                1            1.0          3.25e-01                 \n",
      "l(5)                              [0.6]                1            1.0          1.76e-03     **          \n",
      "l(6)                              [0.6]                1            1.0          4.68e-04     ***         \n",
      "l(7)                              [0.6]                1            1.0          9.31e-02     .           \n",
      "l(8)                              [0.6]                1            1.0          2.97e-01                 \n",
      "l(9)                              [0.6]                1            1.0          3.81e-01                 \n",
      "l(10)                             [0.6]                1            1.0          1.09e-01                 \n",
      "f(11)                             [0.6]                2            1.0          9.35e-01                 \n",
      "s(12)                             [0.6]                20           14.4         3.19e-06     ***         \n",
      "l(14)                             [0.6]                1            1.0          7.92e-03     **          \n",
      "s(15)                             [0.6]                20           8.1          2.77e-02     *           \n",
      "s(16)                             [0.6]                20           7.6          3.46e-01                 \n",
      "f(17)                             [0.6]                4            2.9          9.60e-03     **          \n",
      "f(18)                             [0.6]                5            3.9          6.39e-01                 \n",
      "f(19)                             [0.6]                3            1.9          9.08e-02     .           \n",
      "intercept                                              1            0.0          6.44e-01                 \n",
      "==========================================================================================================\n",
      "Significance codes:  0 '***' 0.001 '**' 0.01 '*' 0.05 '.' 0.1 ' ' 1\n",
      "\n",
      "WARNING: Fitting splines and a linear function to a feature introduces a model identifiability problem\n",
      "         which can cause p-values to appear significant when they are not.\n",
      "\n",
      "WARNING: p-values calculated in this manner behave correctly for un-penalized models or models with\n",
      "         known smoothing parameters, but when smoothing parameters have been estimated, the p-values\n",
      "         are typically lower than they should be, meaning that the tests reject the null too readily.\n"
     ]
    },
    {
     "name": "stderr",
     "output_type": "stream",
     "text": [
      "/tmp/ipykernel_143/3358381670.py:1: UserWarning: KNOWN BUG: p-values computed in this summary are likely much smaller than they should be. \n",
      " \n",
      "Please do not make inferences based on these values! \n",
      "\n",
      "Collaborate on a solution, and stay up to date at: \n",
      "github.com/dswah/pyGAM/issues/163 \n",
      "\n",
      "  gam.summary()\n"
     ]
    }
   ],
   "source": [
    "gam.summary()"
   ]
  },
  {
   "cell_type": "code",
   "execution_count": 19,
   "id": "759c9f1e-fc04-4749-8255-2a59abeb2475",
   "metadata": {
    "tags": []
   },
   "outputs": [
    {
     "data": {
      "image/png": "[encoded data removed]",
      "text/plain": [
       "<Figure size 640x480 with 5 Axes>"
      ]
     },
     "metadata": {},
     "output_type": "display_data"
    }
   ],
   "source": [
    "# plotting  假设了同方差\n",
    "fig, axs = plt.subplots(1,5)\n",
    "titles = X_gam.columns.values.tolist()[:5]\n",
    "for i, ax in enumerate(axs):\n",
    "    #\n",
    "    XX = gam.generate_X_grid(term=i)\n",
    "    ax.plot(XX[:, i], gam.partial_dependence(term=i, X=XX))\n",
    "    ax.plot(XX[:, i], gam.partial_dependence(term=i, X=XX, width=.95)[1], c='r', ls='--')\n",
    "    ax.set_ylim(-10,20)\n",
    "    ax.set_xlim(-3,3)\n",
    "    ax.set_title(titles[i])\n",
    "\n",
    "_ = plt.show()"
   ]
  },
  {
   "cell_type": "markdown",
   "id": "59bc4255-f17a-49b6-a497-22b8bfdad16f",
   "metadata": {
    "jp-MarkdownHeadingCollapsed": true,
    "tags": []
   },
   "source": [
    "### Method4: Random forest"
   ]
  },
  {
   "cell_type": "code",
   "execution_count": 20,
   "id": "7353d523-a442-4c90-bf43-65fe006a278e",
   "metadata": {
    "tags": []
   },
   "outputs": [
    {
     "name": "stdout",
     "output_type": "stream",
     "text": [
      "MSE: 240.31665305867912\n",
      "R^2 train: \u001b[1m0.318\u001b[0m\n",
      "R^2 test:  \u001b[1m0.030\n"
     ]
    }
   ],
   "source": [
    "rf =  RandomForestRegressor(n_estimators=500, random_state=0, \n",
    "                            oob_score=True, max_depth=7,\n",
    "                            max_features = 7)\n",
    "rf.fit(X_train, Y_train)\n",
    "\n",
    "y_train_pred = rf.predict(X_train)\n",
    "y_test_pred = rf.predict(X_test)\n",
    "\n",
    "print('MSE:',mean_squared_error(Y_test,y_test_pred))\n",
    "print('R^2 train:',f'\\033[1m{r2_score(Y_train,y_train_pred):.3f}\\033[0m')\n",
    "print('R^2 test: ',f'\\033[1m{r2_score(Y_test,y_test_pred):.3f}')"
   ]
  },
  {
   "cell_type": "code",
   "execution_count": 21,
   "id": "3bd14446-2de5-4962-adf2-47303e785a01",
   "metadata": {
    "tags": []
   },
   "outputs": [
    {
     "data": {
      "image/png": "[encoded data removed]",
      "text/plain": [
       "<Figure size 640x480 with 1 Axes>"
      ]
     },
     "metadata": {},
     "output_type": "display_data"
    }
   ],
   "source": [
    "# calculate the error at each iteration\n",
    "dim_plot = 50\n",
    "train_error = np.zeros(dim_plot)\n",
    "test_error = np.zeros(dim_plot)\n",
    "for i in np.arange(1,dim_plot+1):\n",
    "    rf =  RandomForestRegressor(n_estimators=i*10, random_state=0, \n",
    "                            max_depth=9,\n",
    "                            max_features = 7)\n",
    "    rf.fit(X_train, Y_train)\n",
    "    y_train_pred = rf.predict(X_train)\n",
    "    y_test_pred = rf.predict(X_test)\n",
    "    train_error[i-1] = mean_squared_error(Y_train, y_train_pred)\n",
    "    test_error[i-1] =  mean_squared_error(Y_test, y_test_pred) \n",
    "\n",
    "# plot    \n",
    "num_tree = np.arange(1,dim_plot+1,1)\n",
    "plt.plot(num_tree*10, train_error, label='training error')\n",
    "plt.plot(num_tree*10, test_error, label='test error')\n",
    "\n",
    "# plt.scatter(119, 0.100, marker='o', edgecolors='g', s=50)\n",
    "# plt.annotate('M = 119', xy=(125,0.105), xytext=(200,0.125),\n",
    "#                 arrowprops=dict(facecolor='yellow', shrink=0.002))\n",
    "\n",
    "plt.xlabel(\"Number of trees M\")\n",
    "plt.ylabel(\"Error\")\n",
    "plt.legend()\n",
    "\n",
    "_ = plt.show()"
   ]
  },
  {
   "cell_type": "code",
   "execution_count": 53,
   "id": "23d68945-ee0c-448f-b461-e63e0a77cd82",
   "metadata": {
    "tags": []
   },
   "outputs": [
    {
     "data": {
      "text/plain": [
       "moderate execise      0.023034\n",
       "ready-to-eat food     0.029574\n",
       "intemperance          0.032818\n",
       "frozen meals/pizza    0.035863\n",
       "alcohol frequency     0.036044\n",
       "cigarette             0.038083\n",
       "alcohol severity      0.047831\n",
       "sedentary             0.076621\n",
       "original weight       0.105257\n",
       "age                   0.108208\n",
       "dtype: float64"
      ]
     },
     "execution_count": 53,
     "metadata": {},
     "output_type": "execute_result"
    }
   ],
   "source": [
    "forest_importance_data = forest_importances.sort_values(ascending = True).tail(10)\n",
    "forest_importance_data.index = ['moderate execise', 'ready-to-eat food', 'intemperance',\n",
    "                               'frozen meals/pizza', 'alcohol frequency', 'cigarette', 'alcohol severity', \n",
    "                                'sedentary', 'original weight', 'age']\n",
    "forest_importance_data"
   ]
  },
  {
   "cell_type": "code",
   "execution_count": 56,
   "id": "6c78eabb-85a8-4961-b299-d985125a1450",
   "metadata": {
    "tags": []
   },
   "outputs": [
    {
     "data": {
      "image/png": "[encoded data removed]",
      "text/plain": [
       "<Figure size 1000x700 with 1 Axes>"
      ]
     },
     "metadata": {},
     "output_type": "display_data"
    }
   ],
   "source": [
    "importances = rf.feature_importances_\n",
    "forest_importances = pd.Series(importances, index= X_test_df.columns)\n",
    "forest_importance_data = forest_importances.sort_values(ascending = True).tail(10)\n",
    "forest_importance_data.index = ['moderate execise', 'ready-to-eat food', 'intemperance',\n",
    "                               'frozen meals/pizza', 'alcohol frequency', 'cigarette', 'alcohol severity', \n",
    "                                'sedentary', 'original weight', 'age']\n",
    "\n",
    "plt.figure(figsize=(10,7))\n",
    "forest_importance_data.plot.barh()\n",
    "plt.ylabel(\"Mean decrease in impurity\")\n",
    "plt.title(\"Top 10 feature importance\")\n",
    "plt.savefig('picture_3.jpg')  \n",
    "_ = plt.show()"
   ]
  },
  {
   "cell_type": "code",
   "execution_count": 24,
   "id": "24ec53f0-16fa-4e48-a2f3-73e2a981b208",
   "metadata": {
    "tags": []
   },
   "outputs": [
    {
     "data": {
      "text/plain": [
       "array([185.41310753, 237.21976114, 202.89717084, 220.75562263,\n",
       "       222.53039132])"
      ]
     },
     "execution_count": 24,
     "metadata": {},
     "output_type": "execute_result"
    }
   ],
   "source": [
    "# Calculate MSE across folds\n",
    "scores = -cross_val_score(rf, X_wls, Y_wls, scoring='neg_mean_squared_error', cv=cv)\n",
    "scores"
   ]
  },
  {
   "cell_type": "code",
   "execution_count": 25,
   "id": "145e02dd-6fde-47a2-b282-59abfacac8f2",
   "metadata": {
    "tags": []
   },
   "outputs": [
    {
     "name": "stdout",
     "output_type": "stream",
     "text": [
      "Mean MSE: 213.7632, plus minus 7.9944\n"
     ]
    }
   ],
   "source": [
    "print(f\"Mean MSE: {scores.mean():.4f}, plus minus {np.sqrt(scores.var()/len(scores)):.4f}\")"
   ]
  },
  {
   "cell_type": "markdown",
   "id": "63e049fb-2cb2-42f4-9f30-8246c626ccda",
   "metadata": {
    "jp-MarkdownHeadingCollapsed": true,
    "tags": []
   },
   "source": [
    "### Method5: Boosting"
   ]
  },
  {
   "cell_type": "code",
   "execution_count": 26,
   "id": "33c8c735-2883-4f69-b88e-18b096eb2078",
   "metadata": {
    "tags": []
   },
   "outputs": [
    {
     "name": "stdout",
     "output_type": "stream",
     "text": [
      "MSE: 239.85713241983328\n",
      "R^2 train: \u001b[1m0.209\u001b[0m\n",
      "R^2 test:  \u001b[1m0.032\n"
     ]
    }
   ],
   "source": [
    "boost = HistGradientBoostingRegressor(random_state=0, learning_rate=0.001,\n",
    "                                      max_iter = 2000, max_depth = 5)\n",
    "boost.fit(X_train, Y_train)\n",
    "\n",
    "y_train_pred = boost.predict(X_train)\n",
    "y_test_pred = boost.predict(X_test)\n",
    "\n",
    "print('MSE:',mean_squared_error(Y_test,y_test_pred))\n",
    "print('R^2 train:',f'\\033[1m{r2_score(Y_train,y_train_pred):.3f}\\033[0m')\n",
    "print('R^2 test: ',f'\\033[1m{r2_score(Y_test,y_test_pred):.3f}')"
   ]
  },
  {
   "cell_type": "code",
   "execution_count": 27,
   "id": "82129e81-64c0-4d6f-a637-a633c09f4d3a",
   "metadata": {
    "tags": []
   },
   "outputs": [
    {
     "data": {
      "text/plain": [
       "array([192.84676643, 241.84329731, 207.19904795, 221.482618  ,\n",
       "       219.26562787])"
      ]
     },
     "execution_count": 27,
     "metadata": {},
     "output_type": "execute_result"
    }
   ],
   "source": [
    "# Calculate MSE across folds\n",
    "scores_boost = -cross_val_score(boost, X_wls, Y_wls, scoring='neg_mean_squared_error', cv=cv)\n",
    "scores_boost"
   ]
  },
  {
   "cell_type": "code",
   "execution_count": 28,
   "id": "ab6b6156-98fb-4b48-9f5e-1d6198fad698",
   "metadata": {
    "tags": []
   },
   "outputs": [
    {
     "name": "stdout",
     "output_type": "stream",
     "text": [
      "Mean MSE: 216.5275, plus minus 7.2684\n"
     ]
    }
   ],
   "source": [
    "print(f\"Mean MSE: {scores_boost.mean():.4f}, plus minus {np.sqrt(scores_boost.var()/len(scores)):.4f}\")"
   ]
  },
  {
   "cell_type": "code",
   "execution_count": 29,
   "id": "2937b3ba-a09a-4465-a33f-a44dfb1da7fa",
   "metadata": {
    "tags": []
   },
   "outputs": [
    {
     "data": {
      "image/png": "[encoded data removed]",
      "text/plain": [
       "<Figure size 640x480 with 1 Axes>"
      ]
     },
     "metadata": {},
     "output_type": "display_data"
    }
   ],
   "source": [
    "# calculate the error at each iteration\n",
    "boost = HistGradientBoostingRegressor(random_state=0, learning_rate=0.001,\n",
    "                                      max_iter = 2500, max_depth = 5)\n",
    "boost.fit(X_train, Y_train)\n",
    "\n",
    "dim_plot = 2500\n",
    "train_error = np.zeros(dim_plot)\n",
    "test_error = np.zeros(dim_plot)\n",
    "for i,j in enumerate(boost.staged_predict(X_train)):\n",
    "    train_error[i] = mean_squared_error(Y_train, j)\n",
    "for i,j in enumerate(boost.staged_predict(X_test)):\n",
    "    test_error[i] =  mean_squared_error(Y_test, j)   \n",
    "\n",
    "# plot    \n",
    "num_tree = np.arange(1,dim_plot+1,1)\n",
    "plt.plot(num_tree, train_error, label='training mse')\n",
    "plt.plot(num_tree, test_error, label='test mse')\n",
    "\n",
    "plt.scatter(2000, 239.857, marker='o', edgecolors='g', s=50)\n",
    "# plt.annotate('M = 119', xy=(125,0.105), xytext=(200,0.125),\n",
    "#                 arrowprops=dict(facecolor='yellow', shrink=0.002))\n",
    "\n",
    "plt.xlabel(\"Number of trees M\")\n",
    "plt.ylabel(\"Error\")\n",
    "plt.legend()\n",
    "plt.savefig('picture_4.jpg')\n",
    "\n",
    "_ = plt.show()"
   ]
  },
  {
   "cell_type": "markdown",
   "id": "ff930652-8bb4-4662-a98f-bc96f6144fae",
   "metadata": {
    "jp-MarkdownHeadingCollapsed": true,
    "tags": []
   },
   "source": [
    "## Appendix\n"
   ]
  },
  {
   "cell_type": "markdown",
   "id": "55b8b086-8592-4f3b-be71-4ad734d40944",
   "metadata": {
    "tags": []
   },
   "source": [
    "#### Picture1. Strategy and Y"
   ]
  },
  {
   "cell_type": "code",
   "execution_count": 30,
   "id": "042ce058-6364-4055-acb2-2bdea39c319a",
   "metadata": {
    "tags": []
   },
   "outputs": [
    {
     "data": {
      "image/png": "[encoded data removed]",
      "text/plain": [
       "<Figure size 1400x1700 with 18 Axes>"
      ]
     },
     "metadata": {},
     "output_type": "display_data"
    }
   ],
   "source": [
    "# let's focus on the question of Up vs Down.\n",
    "# make some side-by-side boxplots\n",
    "var_wl = ['WHD080A', 'WHD080B', 'WHD080C', 'WHD080D',\n",
    "         'WHD080E', 'WHD080F', 'WHD080G', 'WHD080H', \n",
    "         'WHD080I', 'WHD080J', 'WHD080K','WHD080M',\n",
    "         'WHD080N', 'WHD080O', 'WHD080Q', 'WHD080S',\n",
    "         'WHD080T', 'WHD080U']\n",
    "plt.figure(figsize=(14, 17))\n",
    "\n",
    "for i,nm in enumerate(var_wl):\n",
    "    plt.subplot(5,4,i+1)\n",
    "    data_subplot = df_wls.loc[:,[nm,'weight_change']]\n",
    "    _ = sns.barplot(x = nm, y = 'weight_change',\n",
    "           data = data_subplot)\n",
    "    plt.ylabel(r'$\\delta$')\n",
    "    plt.xticks([0,1],['×','✔'])\n",
    "plt.savefig('picture_2.jpg')    \n",
    "plt.tight_layout()\n",
    "_ = plt.show()"
   ]
  },
  {
   "cell_type": "markdown",
   "id": "fbe74980-7b0f-4706-b014-0e1b0abdeabc",
   "metadata": {
    "tags": []
   },
   "source": [
    "#### Picture2. Distribution of Y (i.e. change_weight)"
   ]
  },
  {
   "cell_type": "code",
   "execution_count": 31,
   "id": "1da53514-4da2-4b47-bec8-edbe8e3c3d7b",
   "metadata": {
    "tags": []
   },
   "outputs": [
    {
     "data": {
      "image/png": "[encoded data removed]",
      "text/plain": [
       "<Figure size 800x400 with 2 Axes>"
      ]
     },
     "metadata": {},
     "output_type": "display_data"
    }
   ],
   "source": [
    "fig, (ax1,ax2) = plt.subplots(1, 2)\n",
    "fig.set_size_inches(8,4)\n",
    "# ax1.set_xlim([-0.1, 1])\n",
    "# ax1.set_ylim([0, len(X) + (n_clusters + 1) * 10])\n",
    "\n",
    "ax1.hist(Y,bins = 40, density = True, edgecolor='black')\n",
    "ax2.hist(df_all['WHD020'].values - df_all['WHD050'].values,\n",
    "         bins = 40, density = True, edgecolor='black')\n",
    "\n",
    "\n",
    "ax1.set_xlabel('weight change in 1 year (unit:lb)', y = -0.05)\n",
    "ax2.set_xlabel('weight change in 1 year (unit:lb)', y = -0.05)\n",
    "fig.supylabel('density')\n",
    "ax1.set_title('People aiming to lose weight (n=2558)',fontsize = 9.5)\n",
    "ax2.set_title('Whole group (n=7288)',fontsize = 9.5)\n",
    "fig.suptitle('The distribution of weight_change',\n",
    "             y = 1.05, fontweight = 'medium')\n",
    "plt.savefig('picture_1.jpg')\n",
    "_ = plt.show()"
   ]
  },
  {
   "cell_type": "markdown",
   "id": "ed23990c-d40d-43f4-9f51-e3c2b7780994",
   "metadata": {
    "tags": []
   },
   "source": [
    "-------------------------------------------------"
   ]
  }
 ],
 "metadata": {
  "kernelspec": {
   "display_name": "Python 3 (ipykernel)",
   "language": "python",
   "name": "python3"
  },
  "language_info": {
   "codemirror_mode": {
    "name": "ipython",
    "version": 3
   },
   "file_extension": ".py",
   "mimetype": "text/x-python",
   "name": "python",
   "nbconvert_exporter": "python",
   "pygments_lexer": "ipython3",
   "version": "3.11.3"
  }
 },
 "nbformat": 4,
 "nbformat_minor": 5
}
